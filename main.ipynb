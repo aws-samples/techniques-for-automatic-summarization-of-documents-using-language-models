{
 "cells": [
  {
   "cell_type": "markdown",
   "source": [
    "<sup> Copyright Amazon.com, Inc. or its affiliates. All Rights Reserved. SPDX-License-Identifier: MIT-0</sup>"
   ],
   "metadata": {
    "collapsed": false
   }
  },
  {
   "cell_type": "markdown",
   "id": "1f04bbfd-d9cd-4eb2-9a1c-90d11c4fa51d",
   "metadata": {},
   "source": [
    "# Techniques for Automatic Summarization of Documents Using Language Models"
   ]
  },
  {
   "cell_type": "markdown",
   "id": "f5d6284c-0db6-48d9-aab2-41db1e883274",
   "metadata": {},
   "source": [
    "In this notebook, we are exploring various types of summarization and different approaches in their application. We will be heavily using large language models and langchain.\n",
    "\n",
    "**Types of Summarization:**\n",
    " * Extractive Summarization\n",
    " * Abstractive Summarization\n",
    " * Multi-Level Summarization:\n",
    "     * Extractive-Abstractive Summarization\n",
    "     * Abstractive-Abstractive Summarization"
   ]
  },
  {
   "cell_type": "markdown",
   "id": "22bf543a-f432-4a0c-8034-12e572879d73",
   "metadata": {},
   "source": [
    "**Recommended SageMaker notebook environment configuration:**\n",
    " * Kernel: Python 3 (Data Science 3.0)\n",
    " * Instance Type: ml.c5.4xlarge\n",
    " * Disclaimer: This code has been tested and confirmed to work with the current version of Langchain 0.0.335. Please ensure that your Langchain package, along with any other dependencies listed below, are up to date to guarantee compatibility and optimal performance. Version discrepancies may lead to unexpected behavior or errors."
   ]
  },
  {
   "cell_type": "markdown",
   "id": "3d3cc12a-87f2-491b-b019-5c0f552f335a",
   "metadata": {},
   "source": [
    "### Install Dependencies"
   ]
  },
  {
   "cell_type": "code",
   "execution_count": 2,
   "id": "dcde4b31-fec7-4a88-8bc3-72e92767e6fb",
   "metadata": {
    "tags": []
   },
   "outputs": [
    {
     "name": "stdout",
     "output_type": "stream",
     "text": [
      "\u001B[33mWARNING: Running pip as the 'root' user can result in broken permissions and conflicting behaviour with the system package manager. It is recommended to use a virtual environment instead: https://pip.pypa.io/warnings/venv\u001B[0m\u001B[33m\n",
      "\u001B[0m\n",
      "\u001B[1m[\u001B[0m\u001B[34;49mnotice\u001B[0m\u001B[1;39;49m]\u001B[0m\u001B[39;49m A new release of pip is available: \u001B[0m\u001B[31;49m23.2.1\u001B[0m\u001B[39;49m -> \u001B[0m\u001B[32;49m23.3.1\u001B[0m\n",
      "\u001B[1m[\u001B[0m\u001B[34;49mnotice\u001B[0m\u001B[1;39;49m]\u001B[0m\u001B[39;49m To update, run: \u001B[0m\u001B[32;49mpip install --upgrade pip\u001B[0m\n"
     ]
    }
   ],
   "source": [
    "!pip3 install langchain openai tiktoken pypdf bert-extractive-summarizer faiss-cpu cohere -U sentence-transformers --quiet"
   ]
  },
  {
   "cell_type": "markdown",
   "id": "d22a7bb3-e58c-4a32-a11c-6355b4d401aa",
   "metadata": {
    "tags": []
   },
   "source": [
    "### Input API Keys\n",
    "Here are links to the instructions on how to obtain API keys from [OpenAI](https://platform.openai.com/docs/quickstart/step-2-setup-your-api-key) and [Cohere](https://docs.aicontentlabs.com/setting-up-api-keys/cohere-api-key/)"
   ]
  },
  {
   "cell_type": "code",
   "execution_count": 3,
   "id": "9e8831eb-8839-461c-af3b-27daccb7fda5",
   "metadata": {
    "tags": []
   },
   "outputs": [],
   "source": [
    "import os"
   ]
  },
  {
   "cell_type": "code",
   "execution_count": 4,
   "id": "80ba50f7-fac0-4aa3-88ca-42bb85ac2af3",
   "metadata": {
    "tags": []
   },
   "outputs": [],
   "source": [
    "os.environ['OPENAI_API_KEY'] = <YOUR_OPEN_AI_API_KEY>\n",
    "os.environ['COHERE_API_KEY'] = <YOUR_COHERE_API_KEY>"
   ]
  },
  {
   "cell_type": "markdown",
   "id": "85575f2e-2b53-457a-8c66-45e83493a8a7",
   "metadata": {},
   "source": [
    "## Data"
   ]
  },
  {
   "cell_type": "markdown",
   "id": "92a3f1fe-de77-456b-b30f-0485d4271be4",
   "metadata": {
    "tags": []
   },
   "source": [
    "We are using the AWS well architected framework documentation as the input data available in this [link](https://docs.aws.amazon.com/pdfs/wellarchitected/latest/framework/wellarchitected-framework.pdf). To start we are using a small snippet of the data to introduce abstractive and extractive summary."
   ]
  },
  {
   "cell_type": "code",
   "execution_count": 5,
   "id": "1245fbd5-b3c2-44ea-af74-9e5bb41faa06",
   "metadata": {
    "tags": []
   },
   "outputs": [],
   "source": [
    "text_snippet = \"\"\"\n",
    "The AWS Well-Architected Framework helps you understand the pros and cons of decisions you make\n",
    "while building systems on AWS. Using the Framework helps you learn architectural best practices for\n",
    "designing and operating secure, reliable, efficient, cost-effective, and sustainable workloads in the AWS\n",
    "Cloud. It provides a way for you to consistently measure your architectures against best practices and\n",
    "identify areas for improvement. The process for reviewing an architecture is a constructive conversation\n",
    "about architectural decisions, and is not an audit mechanism. We believe that having well-architected\n",
    "systems greatly increases the likelihood of business success.\n",
    "AWS Solutions Architects have years of experience architecting solutions across a wide variety\n",
    "of business verticals and use cases. We have helped design and review thousands of customers’\n",
    "architectures on AWS. From this experience, we have identified best practices and core strategies for\n",
    "architecting systems in the cloud.\n",
    "The AWS Well-Architected Framework documents a set of foundational questions that help you to\n",
    "understand if a specific architecture aligns well with cloud best practices. The framework provides a\n",
    "consistent approach to evaluating systems against the qualities you expect from modern cloud-based\n",
    "systems, and the remediation that would be required to achieve those qualities. As AWS continues to\n",
    "evolve, and we continue to learn more from working with our customers, we will continue to refine the\n",
    "definition of well-architected.\n",
    "This framework is intended for those in technology roles, such as chief technology officers (CTOs),\n",
    "architects, developers, and operations team members. It describes AWS best practices and strategies\n",
    "to use when designing and operating a cloud workload, and provides links to further implementation\n",
    "details and architectural patterns. For more information, see the AWS Well-Architected homepage.\n",
    "AWS also provides a service for reviewing your workloads at no charge. The AWS Well-Architected\n",
    "Tool (AWS WA Tool) is a service in the cloud that provides a consistent process for you to review and\n",
    "measure your architecture using the AWS Well-Architected Framework. The AWS WA Tool provides\n",
    "recommendations for making your workloads more reliable, secure, efficient, and cost-effective.\n",
    "To help you apply best practices, we have created AWS Well-Architected Labs, which provides you with\n",
    "a repository of code and documentation to give you hands-on experience implementing best practices.\n",
    "We also have teamed up with select AWS Partner Network (APN) Partners, who are members of the AWS\n",
    "Well-Architected Partner program. These AWS Partners have deep AWS knowledge, and can help you\n",
    "review and improve your workloads.\n",
    "\"\"\""
   ]
  },
  {
   "cell_type": "markdown",
   "id": "85956aeb-5e5a-45e3-9adf-45a4e280ab75",
   "metadata": {},
   "source": [
    "## Extractive Summarization"
   ]
  },
  {
   "cell_type": "markdown",
   "id": "f246ed46-9a96-4cf7-acca-ec7e5e06791d",
   "metadata": {},
   "source": [
    "This techniques \"extracts\" important text from the passage to create a summary. It does not perform any paraphrasing which makes its output less cohesive. Due to its simplicity, the model can be ran without any special hardware and produces output quickly. For this example we are using the [bert extractive summarizer](https://pypi.org/project/bert-extractive-summarizer/)."
   ]
  },
  {
   "cell_type": "markdown",
   "id": "86e58c8e-9abf-4a0a-9aab-f129e2a700bf",
   "metadata": {},
   "source": [
    "### Load Model"
   ]
  },
  {
   "cell_type": "code",
   "execution_count": 6,
   "id": "5fea53c3-ab80-42d6-aeda-5f0eeb5048cc",
   "metadata": {
    "tags": []
   },
   "outputs": [],
   "source": [
    "from summarizer import Summarizer\n",
    "model = Summarizer()"
   ]
  },
  {
   "cell_type": "markdown",
   "id": "054ae274-b30c-4ccd-965e-aa2a72df75fe",
   "metadata": {},
   "source": [
    "### Kick-off summarization"
   ]
  },
  {
   "cell_type": "code",
   "execution_count": 7,
   "id": "0b9fa8e1-3c4d-4591-b52f-2688a8d67fbc",
   "metadata": {
    "tags": []
   },
   "outputs": [],
   "source": [
    "bert_summary = model(text_snippet, num_sentences=10)"
   ]
  },
  {
   "cell_type": "code",
   "execution_count": 8,
   "id": "393687a5-2d2a-4a7d-824b-f5b9d83ea4be",
   "metadata": {
    "tags": []
   },
   "outputs": [
    {
     "name": "stdout",
     "output_type": "stream",
     "text": [
      "The AWS Well-Architected Framework helps you understand the pros and cons of decisions you makewhile building systems on AWS. It provides a way for you to consistently measure your architectures against best practices andidentify areas for improvement. The process for reviewing an architecture is a constructive conversationabout architectural decisions, and is not an audit mechanism. We believe that having well-architectedsystems greatly increases the likelihood of business success. AWS Solutions Architects have years of experience architecting solutions across a wide varietyof business verticals and use cases. We have helped design and review thousands of customers’architectures on AWS. The framework provides aconsistent approach to evaluating systems against the qualities you expect from modern cloud-basedsystems, and the remediation that would be required to achieve those qualities. AWS also provides a service for reviewing your workloads at no charge. The AWS Well-ArchitectedTool (AWS WA Tool) is a service in the cloud that provides a consistent process for you to review andmeasure your architecture using the AWS Well-Architected Framework. To help you apply best practices, we have created AWS Well-Architected Labs, which provides you witha repository of code and documentation to give you hands-on experience implementing best practices.\n"
     ]
    }
   ],
   "source": [
    "print(bert_summary.replace(\"\\n\", \"\"))"
   ]
  },
  {
   "cell_type": "code",
   "execution_count": 9,
   "id": "5b09c46f-8faa-423c-8323-d110f5000e4d",
   "metadata": {
    "tags": []
   },
   "outputs": [
    {
     "name": "stdout",
     "output_type": "stream",
     "text": [
      "Starting text length: 2742, Summary length: 1373\n"
     ]
    }
   ],
   "source": [
    "print(f\"Starting text length: {len(text_snippet)}, Summary length: {len(bert_summary)}\")"
   ]
  },
  {
   "cell_type": "markdown",
   "id": "8a42f4ec-8280-4767-9d07-a363cabd8530",
   "metadata": {},
   "source": [
    "## Abstractive Summarization"
   ]
  },
  {
   "cell_type": "markdown",
   "id": "b433b25a-2f02-422e-a0dd-2f07ebd4c305",
   "metadata": {},
   "source": [
    "This technique utilizes a Large Language Model (LLM) with the passage as its input, generating a summary in its own words. However, it's important to note that LLMs demand robust hardware and might take considerable time, especially for lengthy input/output. The quality of the output heavily relies on the prompt provided. To keep things manageable, we'll stick to straightforward prompts for summarization, as delving into prompt engineering falls beyond our current scope."
   ]
  },
  {
   "cell_type": "markdown",
   "id": "7de8efb6-4222-42b7-9506-377bf91d5f3f",
   "metadata": {},
   "source": [
    "### Method 1: Using Specialized Summarization Models"
   ]
  },
  {
   "cell_type": "markdown",
   "id": "f3f439f4-1536-482c-97ab-cc34aff647d0",
   "metadata": {
    "tags": []
   },
   "source": [
    "#### Create pipeline and download model from [HuggingFace](https://huggingface.co/facebook/bart-large-cnn)"
   ]
  },
  {
   "cell_type": "code",
   "execution_count": 10,
   "id": "deac2f1c-1ed7-48df-8a78-dd913a9094e6",
   "metadata": {
    "tags": []
   },
   "outputs": [],
   "source": [
    "from transformers import pipeline\n",
    "\n",
    "bart_summarizer = pipeline(\"summarization\", model=\"facebook/bart-large-cnn\")"
   ]
  },
  {
   "cell_type": "markdown",
   "id": "633be4f6-d99d-47a2-958f-be747b18a083",
   "metadata": {
    "tags": []
   },
   "source": [
    "#### Run data through pipeline"
   ]
  },
  {
   "cell_type": "code",
   "execution_count": 11,
   "id": "652cc698-dd37-4e1b-8fdb-640dec9a8522",
   "metadata": {
    "tags": []
   },
   "outputs": [],
   "source": [
    "specialized_model_summary = bart_summarizer(text_snippet, max_length=512, min_length=256, do_sample=False)[0]['summary_text']"
   ]
  },
  {
   "cell_type": "code",
   "execution_count": 12,
   "id": "70d616a8-7788-4189-95d7-217b83ed1036",
   "metadata": {
    "tags": []
   },
   "outputs": [
    {
     "name": "stdout",
     "output_type": "stream",
     "text": [
      "AWS Well-Architected Framework helps you understand the pros and cons of decisions you make while building systems on AWS. It provides a way for you to consistently measure your architectures against best practices and identify areas for improvement. The framework is intended for those in technology roles, such as chief technology officers (CTOs), developers, and operations team members. It describes AWS best practices to use when designing and operating a cloud workload, and provides links to further implementationdetails and architectural patterns. The AWS Well-architectedTool (AWS WA Tool) is a service in the cloud that provides a consistent process to review and measure your architecture using the framework. It also provides recommendations for making your workloads more reliable, secure, efficient, and cost-effective. The process for reviewing an architecture is a constructive conversation about architectural decisions, and is not an audit mechanism. As AWS continues to evolve, and we continue to learn more from working with our customers, we will continue to refine the definition of well-arch Architected. We believe that having well- architected systems greatly increases the likelihood of business success. We also have teamed up with select AWS Partner Network (APN) Partners, who are members of the AWSWell-Arch Architected Partner program.\n"
     ]
    }
   ],
   "source": [
    "print(specialized_model_summary)"
   ]
  },
  {
   "cell_type": "code",
   "execution_count": 13,
   "id": "f0814962-e531-4dbc-bb70-ad636aaaa713",
   "metadata": {
    "tags": []
   },
   "outputs": [
    {
     "name": "stdout",
     "output_type": "stream",
     "text": [
      "Starting text length: 2742, Summary length: 1367\n"
     ]
    }
   ],
   "source": [
    "print(f\"Starting text length: {len(text_snippet)}, Summary length: {len(specialized_model_summary)}\")"
   ]
  },
  {
   "cell_type": "markdown",
   "id": "310856a1-ae01-4e8c-bd43-069c8a416e15",
   "metadata": {},
   "source": [
    "### Method 2: Using LLMs"
   ]
  },
  {
   "cell_type": "markdown",
   "id": "e2229bec-9afe-478f-8e8b-bd0cf600ab70",
   "metadata": {},
   "source": [
    "#### Create LLM"
   ]
  },
  {
   "cell_type": "code",
   "execution_count": 14,
   "id": "b226fb36-c8bb-4d4f-9f03-5f4313835616",
   "metadata": {
    "tags": []
   },
   "outputs": [],
   "source": [
    "from langchain.chat_models import ChatOpenAI"
   ]
  },
  {
   "cell_type": "code",
   "execution_count": 15,
   "id": "5439d391-3110-464a-be6c-4efd9c294f60",
   "metadata": {
    "tags": []
   },
   "outputs": [],
   "source": [
    "llm = ChatOpenAI(\n",
    "    model='gpt-3.5-turbo-16k', \n",
    "    request_timeout=120\n",
    ")"
   ]
  },
  {
   "cell_type": "markdown",
   "id": "4507e162-6724-4376-adc5-220ffbb94331",
   "metadata": {},
   "source": [
    "#### Feed data into LLM "
   ]
  },
  {
   "cell_type": "code",
   "execution_count": 16,
   "id": "a025ea6b-0746-423f-9bab-287d17c0b239",
   "metadata": {
    "tags": []
   },
   "outputs": [],
   "source": [
    "llm_summary = llm.predict(f'Summarize the following passage: \"{text_snippet}\"')"
   ]
  },
  {
   "cell_type": "code",
   "execution_count": 17,
   "id": "f9c7535f-21a9-4f48-a540-a182dcdb4b28",
   "metadata": {
    "tags": []
   },
   "outputs": [
    {
     "name": "stdout",
     "output_type": "stream",
     "text": [
      "The AWS Well-Architected Framework is a tool provided by Amazon Web Services (AWS) to help users understand the benefits and drawbacks of their architectural decisions when building systems on AWS. It offers best practices for designing and operating secure, reliable, efficient, cost-effective, and sustainable workloads in the AWS Cloud. The framework allows users to evaluate their architectures against these best practices and identify areas for improvement. It is not an audit mechanism but rather a constructive conversation about architectural decisions. AWS Solutions Architects, with their years of experience, have helped design and review thousands of customer architectures, leading to the identification of best practices and core strategies for cloud-based systems. The framework consists of foundational questions to assess if an architecture aligns with cloud best practices and provides a consistent approach for evaluating systems. The intended audience for the framework includes technology roles such as CTOs, architects, developers, and operations team members. AWS also offers a free service called the AWS Well-Architected Tool, which helps review and measure architectures using the framework and provides recommendations for improvement. They also provide resources like AWS Well-Architected Labs and partner with AWS Partner Network (APN) Partners to assist users in implementing best practices and improving their workloads.\n"
     ]
    }
   ],
   "source": [
    "print(llm_summary)"
   ]
  },
  {
   "cell_type": "code",
   "execution_count": 18,
   "id": "7aed0fb2-f6f9-4d0d-9092-2486efac2dbf",
   "metadata": {
    "tags": []
   },
   "outputs": [
    {
     "name": "stdout",
     "output_type": "stream",
     "text": [
      "Starting text length: 2742, Summary length: 1452\n"
     ]
    }
   ],
   "source": [
    "print(f\"Starting text length: {len(text_snippet)}, Summary length: {len(llm_summary)}\")"
   ]
  },
  {
   "cell_type": "markdown",
   "id": "9ebadc5d-030e-49fe-8484-9f66fa56a76f",
   "metadata": {},
   "source": [
    "## Multi-level Summarization (Set-up)"
   ]
  },
  {
   "cell_type": "markdown",
   "id": "4db27408-151c-4332-95e1-732a0c010487",
   "metadata": {},
   "source": [
    "For longer text it is recommended to use multi-level level summarization due to the limitations of a simple extractive or abstractive techniques."
   ]
  },
  {
   "cell_type": "markdown",
   "id": "3091ed86-8a11-4aec-892e-46639a4fdc3d",
   "metadata": {},
   "source": [
    "### Read Full Data"
   ]
  },
  {
   "cell_type": "code",
   "execution_count": 19,
   "id": "990e3bac-a38a-4e37-9b8b-074aff128f9a",
   "metadata": {
    "tags": []
   },
   "outputs": [],
   "source": [
    "from langchain.document_loaders import PyPDFLoader\n",
    "loader = PyPDFLoader(\"https://docs.aws.amazon.com/pdfs/wellarchitected/latest/framework/wellarchitected-framework.pdf\")\n",
    "pages = loader.load()"
   ]
  },
  {
   "cell_type": "markdown",
   "id": "b5a8fdf1-69c0-4036-9fa8-3fafbb265f52",
   "metadata": {},
   "source": [
    "### Filter Data"
   ]
  },
  {
   "cell_type": "markdown",
   "id": "f33a1e56-ca81-402c-a8c6-b68288fe9008",
   "metadata": {},
   "source": [
    "For this exercise we are excluding the table of contents and the appendix section of the document."
   ]
  },
  {
   "cell_type": "code",
   "execution_count": 20,
   "id": "46dfe7bc-4ed3-43b2-a870-73d6cb950415",
   "metadata": {
    "tags": []
   },
   "outputs": [],
   "source": [
    "pages = pages[4:48]\n",
    "text = \"\"\n",
    "\n",
    "for page in pages:\n",
    "    text += page.page_content\n",
    "    \n",
    "text = text.replace('\\t', ' ')"
   ]
  },
  {
   "cell_type": "code",
   "execution_count": 21,
   "id": "bd1cb743-3da7-44ba-b653-a91f7e007eaa",
   "metadata": {
    "tags": []
   },
   "outputs": [
    {
     "name": "stdout",
     "output_type": "stream",
     "text": [
      "Data has 134,113 number of characters\n"
     ]
    }
   ],
   "source": [
    "print(f\"Data has {len(text):,} number of characters\")"
   ]
  },
  {
   "cell_type": "markdown",
   "id": "09dd5a9d-8755-486e-ae46-556fe30eba62",
   "metadata": {},
   "source": [
    "### Count Tokens in Data"
   ]
  },
  {
   "cell_type": "code",
   "execution_count": 22,
   "id": "9d66f700-d2ff-4bc3-a416-bd7783615d77",
   "metadata": {
    "tags": []
   },
   "outputs": [],
   "source": [
    "import tiktoken\n",
    "\n",
    "encoding = tiktoken.get_encoding('cl100k_base')\n",
    "num_tokens = len(encoding.encode(text))"
   ]
  },
  {
   "cell_type": "code",
   "execution_count": 23,
   "id": "ae9ffd83-63e7-44f9-93c8-144be97a878e",
   "metadata": {
    "tags": []
   },
   "outputs": [
    {
     "name": "stdout",
     "output_type": "stream",
     "text": [
      "Data has 27,200 number of tokens\n"
     ]
    }
   ],
   "source": [
    "print(f\"Data has {num_tokens:,} number of tokens\")"
   ]
  },
  {
   "cell_type": "markdown",
   "id": "04e1c8f1-892f-44a9-8962-33fc44456ed9",
   "metadata": {},
   "source": [
    "It is important to note that the number of tokens exceed a typical number of input tokens of an LLM"
   ]
  },
  {
   "cell_type": "markdown",
   "id": "5a0be871-a586-4b9f-9a92-247de2d61213",
   "metadata": {},
   "source": [
    "## Extractive-Abstractive Summarization"
   ]
  },
  {
   "cell_type": "markdown",
   "id": "31f710db-8955-42fc-aae7-d816ee41b37b",
   "metadata": {},
   "source": [
    "This type of summarization first applies an extractive type of summarization and then its output is then fed into an abstractive summarizer"
   ]
  },
  {
   "cell_type": "markdown",
   "id": "01a8c1f3-c690-4a6f-bb97-78c05a367e16",
   "metadata": {},
   "source": [
    "### Method 1: Apply LLM summarization from bert extractive summarizer outputs"
   ]
  },
  {
   "cell_type": "code",
   "execution_count": 24,
   "id": "53895410-0513-433b-b2e7-0bfb3abee557",
   "metadata": {
    "tags": []
   },
   "outputs": [],
   "source": [
    "from langchain.schema import Document\n",
    "from langchain.text_splitter import RecursiveCharacterTextSplitter"
   ]
  },
  {
   "cell_type": "markdown",
   "id": "49cbf370-fe1f-46ab-b50f-48d26b8ef6cf",
   "metadata": {},
   "source": [
    "#### Split Data into smaller chunks"
   ]
  },
  {
   "cell_type": "code",
   "execution_count": 25,
   "id": "8a57653f-7d7e-4214-aae7-b6df5b729191",
   "metadata": {
    "tags": []
   },
   "outputs": [],
   "source": [
    "text_splitter = RecursiveCharacterTextSplitter(separators=[\"\\n\\n\", \"\\n\", \"\\t\"], chunk_size=1_000, chunk_overlap=300)\n",
    "docs = text_splitter.create_documents([text])"
   ]
  },
  {
   "cell_type": "code",
   "execution_count": 26,
   "id": "40421006-7505-4086-95db-caf1fc018c55",
   "metadata": {
    "tags": []
   },
   "outputs": [
    {
     "name": "stdout",
     "output_type": "stream",
     "text": [
      "Data is split into 189 documents\n"
     ]
    }
   ],
   "source": [
    "print (f\"Data is split into {len(docs)} documents\")"
   ]
  },
  {
   "cell_type": "markdown",
   "id": "139b1ce7-a845-4bfa-afd4-852a66fa7b36",
   "metadata": {},
   "source": [
    "#### Create model"
   ]
  },
  {
   "cell_type": "code",
   "execution_count": 27,
   "id": "d591f506-a0e7-4b4e-a564-ddff2d3681e1",
   "metadata": {
    "tags": []
   },
   "outputs": [],
   "source": [
    "model = Summarizer()\n",
    "\n",
    "def get_summary(text):\n",
    "    return model(text, num_sentences=1)"
   ]
  },
  {
   "cell_type": "markdown",
   "id": "043fdb30-b9be-4ea0-97fe-0a1c2d96fa3c",
   "metadata": {},
   "source": [
    "#### Summarize chunks"
   ]
  },
  {
   "cell_type": "code",
   "execution_count": 28,
   "id": "70e9a9b0-dbb2-40fb-80a4-06f73e25490d",
   "metadata": {
    "tags": []
   },
   "outputs": [
    {
     "name": "stdout",
     "output_type": "stream",
     "text": [
      "CPU times: user 16min 56s, sys: 855 ms, total: 16min 57s\n",
      "Wall time: 2min 7s\n"
     ]
    }
   ],
   "source": [
    "%%time\n",
    "bert_summary = []\n",
    "for doc in docs:\n",
    "    bert_summary += [get_summary(doc.page_content)]"
   ]
  },
  {
   "cell_type": "markdown",
   "id": "a8f31c6d-ce4e-4763-8585-c42990451ebf",
   "metadata": {},
   "source": [
    "#### Combine chunk summaries"
   ]
  },
  {
   "cell_type": "code",
   "execution_count": 29,
   "id": "22bcf62f-ffaf-49b1-a36f-1c21fd50c287",
   "metadata": {
    "tags": []
   },
   "outputs": [],
   "source": [
    "summaries = \"\\n\".join(bert_summary)\n",
    "summaries = Document(page_content=summaries)"
   ]
  },
  {
   "cell_type": "markdown",
   "id": "e808742e-01b2-41cc-bc3f-2c864d047db9",
   "metadata": {},
   "source": [
    "#### Create prompt for abstractive summary"
   ]
  },
  {
   "cell_type": "code",
   "execution_count": 30,
   "id": "b6f3f2f1-b19f-43f8-baed-55cd28f3854b",
   "metadata": {
    "tags": []
   },
   "outputs": [],
   "source": [
    "from langchain import PromptTemplate"
   ]
  },
  {
   "cell_type": "code",
   "execution_count": 31,
   "id": "c64bc974-c6af-4202-8d51-501a7d3f6da4",
   "metadata": {
    "tags": []
   },
   "outputs": [],
   "source": [
    "combine_prompt = \"\"\"\n",
    "Provide a detailed summary of the following:\n",
    "{text}\n",
    "\"\"\"\n",
    "combine_prompt_template = PromptTemplate(template=combine_prompt, input_variables=[\"text\"])"
   ]
  },
  {
   "cell_type": "markdown",
   "id": "f9a55c43-4d5a-4a0a-a48c-eb62ff3e9d9b",
   "metadata": {},
   "source": [
    "#### Summarize all summaries"
   ]
  },
  {
   "cell_type": "code",
   "execution_count": 32,
   "id": "eedeb31a-ee3e-4e9d-a221-46e479f05003",
   "metadata": {
    "tags": []
   },
   "outputs": [],
   "source": [
    "from langchain.chains.summarize import load_summarize_chain"
   ]
  },
  {
   "cell_type": "code",
   "execution_count": 33,
   "id": "ad6473f5-4e38-4623-960c-853633a6a3ee",
   "metadata": {
    "tags": []
   },
   "outputs": [],
   "source": [
    "reduce_chain = load_summarize_chain(\n",
    "     llm=llm,\n",
    "     chain_type=\"stuff\",\n",
    "     prompt=combine_prompt_template,\n",
    ")"
   ]
  },
  {
   "cell_type": "code",
   "execution_count": 34,
   "id": "07fb7c97-3ad6-4211-8778-7cb6db9d6b2a",
   "metadata": {
    "tags": []
   },
   "outputs": [
    {
     "name": "stdout",
     "output_type": "stream",
     "text": [
      "CPU times: user 16.1 ms, sys: 0 ns, total: 16.1 ms\n",
      "Wall time: 1min\n"
     ]
    }
   ],
   "source": [
    "%%time\n",
    "output = reduce_chain.run([summaries])"
   ]
  },
  {
   "cell_type": "code",
   "execution_count": 35,
   "id": "1f801565-74c2-4684-9830-35ad09401f15",
   "metadata": {
    "tags": []
   },
   "outputs": [
    {
     "name": "stdout",
     "output_type": "stream",
     "text": [
      "The AWS Well-Architected Framework is a set of best practices and guidelines provided by Amazon Web Services (AWS) to help users build reliable, secure, efficient, and cost-effective systems on the AWS platform. It aims to help users understand the pros and cons of their architectural decisions and identify areas for improvement.\n",
      "\n",
      "The framework consists of five pillars: operational excellence, security, reliability, performance efficiency, and cost optimization. These pillars cover various aspects of system architecture and provide a set of questions that users can use to evaluate how well their architecture aligns with best practices.\n",
      "\n",
      "The operational excellence pillar focuses on designing systems that are easy to operate, monitor, and support. It emphasizes the need for automation, continuous improvement, and the ability to quickly respond to changes in market conditions.\n",
      "\n",
      "The security pillar emphasizes the importance of implementing strong security measures to protect data, resources, and applications. It covers areas such as identity and access management, threat detection, incident response, and application security.\n",
      "\n",
      "The reliability pillar focuses on designing systems that are resilient and can withstand component failures. It includes considerations such as fault tolerance, disaster recovery, and change management.\n",
      "\n",
      "The performance efficiency pillar focuses on optimizing system performance and resource utilization. It covers areas such as selecting appropriate cloud resources, optimizing data storage and transfer, and using automation to improve performance.\n",
      "\n",
      "The cost optimization pillar focuses on optimizing costs without sacrificing performance or security. It includes practices such as monitoring usage and cost, using cost-effective resources, and managing demand and supply resources.\n",
      "\n",
      "The framework provides guidance on how to implement these best practices and includes resources such as code samples, documentation, and training courses to help users gain hands-on experience.\n",
      "\n",
      "Overall, the AWS Well-Architected Framework is a valuable resource for architects, developers, and operations team members to ensure their systems are built following best practices and continually improved to meet business requirements.\n"
     ]
    }
   ],
   "source": [
    "print(output)"
   ]
  },
  {
   "cell_type": "markdown",
   "id": "1a4c3732-15c2-4a5b-87e3-89dad9d53f22",
   "metadata": {
    "tags": []
   },
   "source": [
    "### Method 2: Summary Via Clustering Chunks"
   ]
  },
  {
   "cell_type": "markdown",
   "id": "4abc1be6-8753-4a74-ba36-7dc9f2490ba0",
   "metadata": {},
   "source": [
    "#### Apply chunks into embeddings"
   ]
  },
  {
   "cell_type": "code",
   "execution_count": 36,
   "id": "ebea1ba1-e275-4aee-84e4-fab5f9be204f",
   "metadata": {
    "tags": []
   },
   "outputs": [],
   "source": [
    "from langchain.embeddings import OpenAIEmbeddings\n",
    "import numpy as np"
   ]
  },
  {
   "cell_type": "code",
   "execution_count": 37,
   "id": "208e6995-7834-4943-bdf0-ea2501ad0896",
   "metadata": {
    "tags": []
   },
   "outputs": [],
   "source": [
    "embeddings = OpenAIEmbeddings()\n",
    "vectors = embeddings.embed_documents([x.page_content for x in docs])"
   ]
  },
  {
   "cell_type": "markdown",
   "id": "9dd5163d-b401-4b2d-bf02-728c7a41eeef",
   "metadata": {},
   "source": [
    "#### Perform K-means Clustering"
   ]
  },
  {
   "cell_type": "code",
   "execution_count": 38,
   "id": "7e33d3c1-7dad-432e-b590-c7d9d3e589a5",
   "metadata": {
    "tags": []
   },
   "outputs": [],
   "source": [
    "from sklearn.cluster import KMeans"
   ]
  },
  {
   "cell_type": "code",
   "execution_count": 39,
   "id": "1da7677d-b306-44fe-b2b8-854ba696553f",
   "metadata": {
    "tags": []
   },
   "outputs": [],
   "source": [
    "n_clusters = 10\n",
    "kmeans = KMeans(n_clusters=10, random_state=42).fit(vectors)"
   ]
  },
  {
   "cell_type": "markdown",
   "id": "d0fffc96-4812-4b59-b891-bd5509c61832",
   "metadata": {},
   "source": [
    "#### Plot Clusters"
   ]
  },
  {
   "cell_type": "code",
   "execution_count": 40,
   "id": "089f128e-8247-447a-baef-8a249f0802c4",
   "metadata": {
    "tags": []
   },
   "outputs": [
    {
     "name": "stderr",
     "output_type": "stream",
     "text": [
      "/opt/conda/lib/python3.10/site-packages/sklearn/manifold/_t_sne.py:780: FutureWarning: The default initialization in TSNE will change from 'random' to 'pca' in 1.2.\n",
      "  warnings.warn(\n",
      "/opt/conda/lib/python3.10/site-packages/sklearn/manifold/_t_sne.py:790: FutureWarning: The default learning rate in TSNE will change from 200.0 to 'auto' in 1.2.\n",
      "  warnings.warn(\n"
     ]
    },
    {
     "data": {
      "image/png": "[encoded data removed]",
      "text/plain": [
       "<Figure size 640x480 with 1 Axes>"
      ]
     },
     "metadata": {},
     "output_type": "display_data"
    }
   ],
   "source": [
    "from sklearn.manifold import TSNE\n",
    "import matplotlib.pyplot as plt\n",
    "\n",
    "tsne = TSNE(\n",
    "    n_components=2, \n",
    "    perplexity=25, \n",
    "    early_exaggeration=2, \n",
    "    random_state=10\n",
    ")\n",
    "\n",
    "two_dim_data = tsne.fit_transform(vectors)\n",
    "\n",
    "plt.scatter(\n",
    "    x=two_dim_data[:, 0], \n",
    "    y=two_dim_data[:, 1], \n",
    "    c=kmeans.labels_, \n",
    "    cmap='rainbow'\n",
    ")\n",
    "plt.title('Data Clusters')\n",
    "plt.show()"
   ]
  },
  {
   "cell_type": "markdown",
   "id": "92024371-bfe1-4d3a-869a-b92a4bd87ce4",
   "metadata": {},
   "source": [
    "#### Get the closest embedding to each cluster centroid"
   ]
  },
  {
   "cell_type": "code",
   "execution_count": 41,
   "id": "313d6db9-4ffd-4759-9d3a-8cb3c4a805cd",
   "metadata": {
    "tags": []
   },
   "outputs": [],
   "source": [
    "closest_indices_list = []\n",
    "\n",
    "for i in range(n_clusters):\n",
    "    distances = np.linalg.norm(vectors - kmeans.cluster_centers_[i], axis=1)\n",
    "    closest_index = np.argmin(distances)\n",
    "    closest_indices_list.append(closest_index)\n",
    "\n",
    "closest_indices_list.sort()"
   ]
  },
  {
   "cell_type": "code",
   "execution_count": 42,
   "id": "e25c5a38-128b-422b-8776-db1233752e42",
   "metadata": {
    "tags": []
   },
   "outputs": [
    {
     "data": {
      "text/plain": [
       "[1, 26, 67, 80, 88, 105, 110, 113, 134, 176]"
      ]
     },
     "execution_count": 42,
     "metadata": {},
     "output_type": "execute_result"
    }
   ],
   "source": [
    "closest_indices_list"
   ]
  },
  {
   "cell_type": "markdown",
   "id": "03565b68-a679-4fa6-82a4-28d6c5004212",
   "metadata": {},
   "source": [
    "#### Create prompt template that is to be applied for each cluster centroid"
   ]
  },
  {
   "cell_type": "code",
   "execution_count": 43,
   "id": "ce4285d3-4c67-44ba-9034-c4f99b3185ac",
   "metadata": {
    "tags": []
   },
   "outputs": [],
   "source": [
    "from langchain import PromptTemplate\n",
    "map_prompt = \"\"\"\n",
    "Provide a short summary of the following in a single paragraph: \n",
    "{text}\n",
    "\"\"\"\n",
    "map_prompt_template = PromptTemplate(template=map_prompt, input_variables=[\"text\"])"
   ]
  },
  {
   "cell_type": "markdown",
   "id": "0886f3d9-814c-46da-aaa8-cb4180f33352",
   "metadata": {},
   "source": [
    "#### Map the prompt to all cluster centroid"
   ]
  },
  {
   "cell_type": "code",
   "execution_count": 44,
   "id": "9ed31861-00ad-489a-85fa-0446d43d2e25",
   "metadata": {
    "tags": []
   },
   "outputs": [],
   "source": [
    "map_chain = load_summarize_chain(\n",
    "    llm=llm,\n",
    "    chain_type=\"stuff\",\n",
    "    prompt=map_prompt_template\n",
    ")"
   ]
  },
  {
   "cell_type": "code",
   "execution_count": 45,
   "id": "41a58fad-f14b-4557-877d-703f280e1f0d",
   "metadata": {
    "tags": []
   },
   "outputs": [],
   "source": [
    "selected_docs = [docs[doc] for doc in closest_indices_list]"
   ]
  },
  {
   "cell_type": "markdown",
   "id": "a3f13cdd-08b5-4941-9a88-91972f02335b",
   "metadata": {},
   "source": [
    "#### Summaries "
   ]
  },
  {
   "cell_type": "code",
   "execution_count": 46,
   "id": "7c4534cd-eb64-46d3-a82c-f750f7849a11",
   "metadata": {
    "tags": []
   },
   "outputs": [
    {
     "name": "stdout",
     "output_type": "stream",
     "text": [
      "[1] Cluster Centroid Summary: architectures. It focuses on key areas such as security, reliability, performance efficiency, cost optimization, and operational excellence. By using the framework, you can assess your architecture and identify areas where improvements can be made to ensure a well-architected system. AWS Solutions Architects, with their extensive experience, can provide guidance and assistance in designing and reviewing architectures to help businesses achieve success in the cloud.\n",
      "\n",
      "[2] Cluster Centroid Summary: responsibility for its success. This requires effective communication, collaboration, and coordination among team members. Additionally, it is important to establish clear roles and responsibilities within the organization to ensure that everyone knows what is expected of them. Prepare\n",
      "Before deploying your workload, it is important to thoroughly plan and prepare for its implementation. This includes identifying any potential risks or challenges that may arise and developing strategies to mitigate them. It is also important to ensure that all necessary resources and infrastructure are in place to support the workload. Operate\n",
      "Once your workload is deployed, it is important to effectively monitor and manage its operation. This includes monitoring key performance indicators and operational metrics to ensure that the workload is performing as expected. It is also important to have processes in place to respond to any incidents or issues that may arise. Evolve\n",
      "As your business needs and environment change, it is important to continuously evolve and improve the operation of your workload. This includes regularly evaluating and updating your processes, technologies, and strategies to ensure that they align with your current goals and objectives. By using feedback loops and learning from past experiences, you can drive continuous improvement for your organization and the operation of your workload.\n",
      "\n",
      "[3] Cluster Centroid Summary: workloads: people and machines. For people, AWS IAM is the recommended service for managing identities and access to AWS resources. With IAM, you can create users, groups, and roles, and assign permissions to them using granular policies. IAM also supports strong password practices and multi-factor authentication for added security. For machines, IAM allows for secure access through roles, instance profiles, identity federation, and temporary credentials. This ensures that only authorized systems have access to AWS resources. Additionally, you can use federation with your existing directory service for seamless integration. Overall, IAM provides a comprehensive solution for authentication and authorization in AWS, allowing you to control user and programmatic access to your resources.\n",
      "\n",
      "[4] Cluster Centroid Summary: The passage explains the importance of data classification and encryption in protecting organizational data from unauthorized access. It mentions that these tools and techniques are essential for preventing financial loss and complying with regulatory obligations. In AWS, customers have full control over their data, and AWS provides features such as encryption and key management to facilitate data protection. Additionally, AWS offers detailed logging and storage systems with exceptional resiliency to ensure data security.\n",
      "\n",
      "[5] Cluster Centroid Summary: The AWS Well-Architected Framework provides guidance on how to design, develop, build, deploy, and operate workloads in a secure manner. It emphasizes the importance of incorporating and validating the security properties of applications throughout the entire lifecycle. This can be achieved through training people, using automation for testing, understanding dependencies, and validating the security properties of tools and applications. By following these principles, the likelihood of security issues in production workloads is reduced.\n",
      "\n",
      "[6] Cluster Centroid Summary: This paragraph discusses the importance of failure management in systems and the role of automation in ensuring reliability. It mentions that failures are expected in complex systems and that workloads need to be able to withstand and repair these failures to maintain availability. With AWS, automation can be used to react to monitoring data and initiate actions to fix problems. Instead of diagnosing and fixing a failed resource in the production environment, it is recommended to replace it with a new one and analyze the failed resource separately. The cloud also allows for the creation of temporary versions of a system at a low cost, enabling automated testing for verifying recovery processes. The paragraph concludes by stating that the following questions will focus on these considerations for reliability.\n",
      "\n",
      "[7] Cluster Centroid Summary: learn and implement complex technologies, leverage the expertise and resources of your cloud vendor to simplify the process and improve efficiency.\n",
      "•Measure overall efficiency: Continuously monitor and measure the efficiency of your system to identify areas for improvement and optimize resource allocation. This includes tracking key performance indicators (KPIs) and using tools and services provided by your cloud vendor to gain insights into system efficiency.\n",
      "•Stop guessing capacity: Instead of manually provisioning resources based on guesswork, use automated scaling capabilities provided by your cloud vendor to dynamically adjust resources based on demand. This ensures that you always have the right amount of resources to meet system requirements, avoiding overprovisioning or underprovisioning.\n",
      "•Test system at production scale: To ensure that your system performs efficiently under real-world conditions, test it at production scale. This involves simulating production workloads and stress testing the system to identify any bottlenecks or performance issues.\n",
      "•Use serverless architectures: Utilize serverless computing services offered by your cloud vendor to eliminate the need to provision and manage servers. This allows you to focus on developing and deploying code without worrying about infrastructure, resulting in improved efficiency and reduced operational overhead.\n",
      "\n",
      "[8] Cluster Centroid Summary: evolving cloud services and technologies. Experimenting frequently allows for comparative testing and the ability to quickly adapt to different types of instances, storage, or configurations. It is important to consider how cloud services are consumed and align technology approaches with workload goals, taking into account data access patterns when selecting database or storage approaches. The five best practice areas for performance efficiency in the cloud are architecture selection, compute and hardware, data management, networking and content delivery, and process and culture. It is crucial to take a data-driven approach, gathering data on all aspects of the architecture and regularly reviewing choices to ensure optimal performance and utilization of cloud resources.\n",
      "\n",
      "[9] Cluster Centroid Summary: This passage highlights the benefits and strategies for cost optimization in the cloud. It emphasizes how using cloud services like AWS can help reduce costs by eliminating the need for physical data centers and managing operating systems. The cloud also provides transparency in tracking usage and costs, allowing for accurate attribution of expenses to specific workloads. The passage then outlines five best practices for cost optimization, which include practicing cloud financial management, being aware of expenditure and usage, using cost-effective resources, managing demand and supply of resources, and continuously optimizing over time.\n",
      "\n",
      "[10] Cluster Centroid Summary: the workload across multiple instances, automatically scale resources based on demand, and optimize resource usage to minimize environmental impact. By implementing these practices, organizations can reduce their hardware footprint and energy consumption, contributing to their sustainability goals.\n",
      "\n"
     ]
    }
   ],
   "source": [
    "new_line = \"\\n\"\n",
    "\n",
    "summary_list = []\n",
    "for i, doc in enumerate(selected_docs):\n",
    "    chunk_summary = map_chain.run([doc])\n",
    "    summary_list.append(chunk_summary)\n",
    "    print(f\"[{i+1}] Cluster Centroid Summary: {chunk_summary}\")\n",
    "    print()"
   ]
  },
  {
   "cell_type": "markdown",
   "id": "2b026f15-0342-4fdb-8b75-cb6e11d6a053",
   "metadata": {},
   "source": [
    "## Abstractive-Abstractive Summarization"
   ]
  },
  {
   "cell_type": "markdown",
   "id": "0aecc4b1-4eb7-4dd9-984a-4198f82c6b41",
   "metadata": {},
   "source": [
    "This type of summarization applies an abstractive summarization technique to the data two or more times."
   ]
  },
  {
   "cell_type": "markdown",
   "id": "567a24ec-3979-43c3-b452-157abf37c3f1",
   "metadata": {},
   "source": [
    "### Method 1: Rerank"
   ]
  },
  {
   "cell_type": "markdown",
   "id": "4ced5d0a-4344-482c-be08-b12d846f17b6",
   "metadata": {},
   "source": [
    "The map re-rank documents chain first summarizes each document. It not only provides a response but it also gives a score for confidence. Finally, it picks the response with the highest confidence score."
   ]
  },
  {
   "cell_type": "code",
   "execution_count": 47,
   "id": "fdde1994-e828-457f-aba2-90c67eca9465",
   "metadata": {
    "tags": []
   },
   "outputs": [],
   "source": [
    "from langchain.retrievers import ContextualCompressionRetriever\n",
    "from langchain.retrievers.document_compressors import CohereRerank\n",
    "from langchain.chains import RetrievalQA\n",
    "from langchain.vectorstores import FAISS"
   ]
  },
  {
   "cell_type": "markdown",
   "id": "708136e1-c3e9-4ec3-820e-0b4b6f31db80",
   "metadata": {},
   "source": [
    "#### Create vector store"
   ]
  },
  {
   "cell_type": "code",
   "execution_count": 48,
   "id": "9cf726ca-4503-4316-8768-40d4927d4933",
   "metadata": {
    "tags": []
   },
   "outputs": [],
   "source": [
    "embedder = OpenAIEmbeddings()\n",
    "vector_store = FAISS.from_documents(docs, embedder)\n",
    "\n",
    "retriever = vector_store.as_retriever()"
   ]
  },
  {
   "cell_type": "markdown",
   "id": "70ff002c-45a1-4fa1-a8ba-533402a5e8e1",
   "metadata": {},
   "source": [
    "#### Create compressor"
   ]
  },
  {
   "cell_type": "code",
   "execution_count": 49,
   "id": "c515ab3f-821e-4515-a863-3bf9eded75ba",
   "metadata": {
    "tags": []
   },
   "outputs": [],
   "source": [
    "compressor = CohereRerank(user_agent=\"summarization\")"
   ]
  },
  {
   "cell_type": "markdown",
   "id": "43ebb847-63af-47e2-b4f4-a15ca539b004",
   "metadata": {},
   "source": [
    "#### Create Retriever"
   ]
  },
  {
   "cell_type": "code",
   "execution_count": 50,
   "id": "ee6bb1a7-a7d1-4716-b3c9-b926327bd700",
   "metadata": {
    "tags": []
   },
   "outputs": [],
   "source": [
    "compression_retriever = ContextualCompressionRetriever(\n",
    "    base_compressor=compressor, \n",
    "    base_retriever=retriever\n",
    ")"
   ]
  },
  {
   "cell_type": "markdown",
   "id": "3385b395-9002-4083-9706-dc1b7180b7c3",
   "metadata": {},
   "source": [
    "#### Create Chain"
   ]
  },
  {
   "cell_type": "code",
   "execution_count": 51,
   "id": "115f835a-62db-476f-a923-af05f97580dc",
   "metadata": {
    "tags": []
   },
   "outputs": [],
   "source": [
    "chain = RetrievalQA.from_chain_type(\n",
    "    llm=llm, \n",
    "    retriever=compression_retriever\n",
    ")"
   ]
  },
  {
   "cell_type": "code",
   "execution_count": 52,
   "id": "3bde58bd-3c43-4be4-b192-16255e10636f",
   "metadata": {
    "tags": []
   },
   "outputs": [
    {
     "data": {
      "text/plain": [
       "'The AWS Well-Architected Framework is a set of best practices that helps users understand the advantages and disadvantages of decisions made when building systems on AWS. It provides guidance on designing and operating reliable, secure, efficient, cost-effective, and sustainable systems in the cloud. The framework consists of six pillars: operational excellence, security, reliability, performance efficiency, cost optimization, and sustainability. These pillars define the qualities expected from modern cloud-based systems and provide a consistent approach to evaluating architectures against these qualities. The framework is intended for technology roles such as CTOs, architects, developers, and operations team members, and provides best practices, strategies, and implementation details for designing and operating cloud workloads. It also emphasizes the importance of trade-offs and continuous improvement.'"
      ]
     },
     "execution_count": 52,
     "metadata": {},
     "output_type": "execute_result"
    }
   ],
   "source": [
    "chain.run(\"Provide a consolidated summary of the AWS Well Architected Framework based on the documentation\")"
   ]
  },
  {
   "cell_type": "markdown",
   "id": "c15be0ec-b068-4f80-8c7f-2ddb8fb48186",
   "metadata": {},
   "source": [
    "### Method 2: Map-Reduce"
   ]
  },
  {
   "cell_type": "markdown",
   "id": "fdbe1d1b-5ab9-4371-b877-a5c522fd0f10",
   "metadata": {},
   "source": [
    "The map reduce method splits the data into chunks and performs summarization on each chunk. It then combines the summaries of each chunk into a single summary."
   ]
  },
  {
   "cell_type": "code",
   "execution_count": 53,
   "id": "a8bdf857-78cc-4795-bcc2-b69020abc41c",
   "metadata": {
    "tags": []
   },
   "outputs": [],
   "source": [
    "from langchain.chains import MapReduceDocumentsChain, ReduceDocumentsChain\n",
    "from langchain.chains.combine_documents.stuff import StuffDocumentsChain\n",
    "from langchain.chains.llm import LLMChain"
   ]
  },
  {
   "cell_type": "markdown",
   "id": "38c9d703-2427-4e77-8d7e-227a33959a30",
   "metadata": {},
   "source": [
    "#### Map prompt template"
   ]
  },
  {
   "cell_type": "code",
   "execution_count": 54,
   "id": "77049ed6-5b21-4779-87d4-6168519ba0d3",
   "metadata": {
    "tags": []
   },
   "outputs": [],
   "source": [
    "map_template = \"\"\"\n",
    "The following is a list of documents:\n",
    "{docs}\n",
    "From the list, extract the over arching themes in a detailed manner.\n",
    "Helpful Answer:\"\"\""
   ]
  },
  {
   "cell_type": "markdown",
   "id": "4413a170-36d9-4663-abdc-05e1e215e711",
   "metadata": {},
   "source": [
    "#### Map chain"
   ]
  },
  {
   "cell_type": "code",
   "execution_count": 55,
   "id": "fbd176ab-513b-4488-a182-343f073c1f27",
   "metadata": {
    "tags": []
   },
   "outputs": [],
   "source": [
    "map_prompt = PromptTemplate.from_template(map_template)\n",
    "map_chain = LLMChain(\n",
    "    llm=llm, \n",
    "    prompt=map_prompt\n",
    ")"
   ]
  },
  {
   "cell_type": "markdown",
   "id": "720e3691-22f0-41fe-abd3-6e06b06dc768",
   "metadata": {},
   "source": [
    "#### Reduce prompt template"
   ]
  },
  {
   "cell_type": "code",
   "execution_count": 56,
   "id": "845160bb-35bf-4318-a35b-831b8cece54c",
   "metadata": {
    "tags": []
   },
   "outputs": [],
   "source": [
    "reduce_template = \"\"\"\n",
    "The following is list of summaries:\n",
    "{doc_summaries}\n",
    "\n",
    "\n",
    "Consolidate the list into a single summary of a couple of paragraphs that details all the important information.\n",
    "Helpful Answer:\"\"\"\n",
    "reduce_prompt = PromptTemplate.from_template(reduce_template)"
   ]
  },
  {
   "cell_type": "markdown",
   "id": "7aed2aa7-6b41-4780-8c67-d77c20436728",
   "metadata": {},
   "source": [
    "#### Reduce chain"
   ]
  },
  {
   "cell_type": "code",
   "execution_count": 57,
   "id": "465a905f-700d-4bf8-ae6d-06df2b134e8d",
   "metadata": {
    "tags": []
   },
   "outputs": [],
   "source": [
    "reduce_chain = LLMChain(llm=llm, prompt=reduce_prompt)\n",
    "\n",
    "combine_documents_chain = StuffDocumentsChain(\n",
    "    llm_chain=reduce_chain, \n",
    "    document_variable_name=\"doc_summaries\"\n",
    ")"
   ]
  },
  {
   "cell_type": "code",
   "execution_count": 58,
   "id": "49309c3e-cb89-4497-bc19-708ca60ec45f",
   "metadata": {
    "tags": []
   },
   "outputs": [],
   "source": [
    "reduce_documents_chain = ReduceDocumentsChain(\n",
    "    combine_documents_chain=combine_documents_chain,\n",
    "    collapse_documents_chain=combine_documents_chain,\n",
    "    token_max=100_000,\n",
    ")"
   ]
  },
  {
   "cell_type": "markdown",
   "id": "855301f9-f6da-4c7a-9ed0-4c916fd98ad9",
   "metadata": {},
   "source": [
    "#### Map-Reduce Chain"
   ]
  },
  {
   "cell_type": "code",
   "execution_count": 59,
   "id": "340db145-054e-47c1-9fbe-ccc3aecee3a8",
   "metadata": {
    "tags": []
   },
   "outputs": [],
   "source": [
    "map_reduce_chain = MapReduceDocumentsChain(\n",
    "    llm_chain=map_chain,\n",
    "    reduce_documents_chain=reduce_documents_chain,\n",
    "    document_variable_name=\"docs\",\n",
    "    return_intermediate_steps=False,\n",
    ")"
   ]
  },
  {
   "cell_type": "markdown",
   "id": "19d2433d-5b01-4daf-b877-fe7360d83a25",
   "metadata": {},
   "source": [
    "#### To reduce compute time we are applying the chain on the first 25 chunks"
   ]
  },
  {
   "cell_type": "code",
   "execution_count": 60,
   "id": "89eaa4b4-34cd-4c6f-b8f3-c1c233701415",
   "metadata": {
    "tags": []
   },
   "outputs": [
    {
     "name": "stdout",
     "output_type": "stream",
     "text": [
      "The provided list of documents highlights several overarching themes related to the AWS Well-Architected Framework and best practices for designing and operating systems on AWS. The documents emphasize the importance of following architectural best practices, making informed decisions, prioritizing reliability and security, optimizing efficiency and cost-effectiveness, and continuously improving system designs.\n",
      "\n",
      "The AWS Well-Architected Framework serves as a guide for architects, developers, and operations team members in designing and operating cloud workloads effectively. It focuses on six key pillars: operational excellence, security, reliability, performance efficiency, cost optimization, and sustainability. These pillars provide a foundation for evaluating architectures and ensuring they align with cloud best practices.\n",
      "\n",
      "The documents emphasize the need to understand the consequences of decisions made during the system-building process and make informed choices to ensure the success of systems. They highlight the significance of designing and operating reliable and secure systems, optimizing efficiency and achieving cost-effectiveness.\n",
      "\n",
      "Continuous improvement is a key theme, with the AWS Well-Architected Framework providing a process for reviewing architectures and engaging in constructive conversations to identify areas for improvement. Collaboration with AWS Partner Network (APN) Partners and access to AWS Well-Architected Labs are additional resources available to users for implementing best practices.\n",
      "\n",
      "The documents also emphasize the importance of a customer-centric approach, knowledge sharing, and collaboration within organizations. They highlight the value of following general design principles, leveraging automation and scripting, and adopting an operations-as-code mindset.\n",
      "\n",
      "Overall, the provided documents revolve around the AWS Well-Architected Framework, emphasizing the importance of following best practices, making informed decisions, prioritizing reliability and security, optimizing efficiency and cost-effectiveness, and continuously improving system designs on AWS.\n",
      "CPU times: user 210 ms, sys: 20.1 ms, total: 230 ms\n",
      "Wall time: 18min 46s\n"
     ]
    }
   ],
   "source": [
    "%%time\n",
    "print(map_reduce_chain.run(docs[:25]))"
   ]
  }
 ],
 "metadata": {
  "availableInstances": [
   {
    "_defaultOrder": 0,
    "_isFastLaunch": true,
    "category": "General purpose",
    "gpuNum": 0,
    "hideHardwareSpecs": false,
    "memoryGiB": 4,
    "name": "ml.t3.medium",
    "vcpuNum": 2
   },
   {
    "_defaultOrder": 1,
    "_isFastLaunch": false,
    "category": "General purpose",
    "gpuNum": 0,
    "hideHardwareSpecs": false,
    "memoryGiB": 8,
    "name": "ml.t3.large",
    "vcpuNum": 2
   },
   {
    "_defaultOrder": 2,
    "_isFastLaunch": false,
    "category": "General purpose",
    "gpuNum": 0,
    "hideHardwareSpecs": false,
    "memoryGiB": 16,
    "name": "ml.t3.xlarge",
    "vcpuNum": 4
   },
   {
    "_defaultOrder": 3,
    "_isFastLaunch": false,
    "category": "General purpose",
    "gpuNum": 0,
    "hideHardwareSpecs": false,
    "memoryGiB": 32,
    "name": "ml.t3.2xlarge",
    "vcpuNum": 8
   },
   {
    "_defaultOrder": 4,
    "_isFastLaunch": true,
    "category": "General purpose",
    "gpuNum": 0,
    "hideHardwareSpecs": false,
    "memoryGiB": 8,
    "name": "ml.m5.large",
    "vcpuNum": 2
   },
   {
    "_defaultOrder": 5,
    "_isFastLaunch": false,
    "category": "General purpose",
    "gpuNum": 0,
    "hideHardwareSpecs": false,
    "memoryGiB": 16,
    "name": "ml.m5.xlarge",
    "vcpuNum": 4
   },
   {
    "_defaultOrder": 6,
    "_isFastLaunch": false,
    "category": "General purpose",
    "gpuNum": 0,
    "hideHardwareSpecs": false,
    "memoryGiB": 32,
    "name": "ml.m5.2xlarge",
    "vcpuNum": 8
   },
   {
    "_defaultOrder": 7,
    "_isFastLaunch": false,
    "category": "General purpose",
    "gpuNum": 0,
    "hideHardwareSpecs": false,
    "memoryGiB": 64,
    "name": "ml.m5.4xlarge",
    "vcpuNum": 16
   },
   {
    "_defaultOrder": 8,
    "_isFastLaunch": false,
    "category": "General purpose",
    "gpuNum": 0,
    "hideHardwareSpecs": false,
    "memoryGiB": 128,
    "name": "ml.m5.8xlarge",
    "vcpuNum": 32
   },
   {
    "_defaultOrder": 9,
    "_isFastLaunch": false,
    "category": "General purpose",
    "gpuNum": 0,
    "hideHardwareSpecs": false,
    "memoryGiB": 192,
    "name": "ml.m5.12xlarge",
    "vcpuNum": 48
   },
   {
    "_defaultOrder": 10,
    "_isFastLaunch": false,
    "category": "General purpose",
    "gpuNum": 0,
    "hideHardwareSpecs": false,
    "memoryGiB": 256,
    "name": "ml.m5.16xlarge",
    "vcpuNum": 64
   },
   {
    "_defaultOrder": 11,
    "_isFastLaunch": false,
    "category": "General purpose",
    "gpuNum": 0,
    "hideHardwareSpecs": false,
    "memoryGiB": 384,
    "name": "ml.m5.24xlarge",
    "vcpuNum": 96
   },
   {
    "_defaultOrder": 12,
    "_isFastLaunch": false,
    "category": "General purpose",
    "gpuNum": 0,
    "hideHardwareSpecs": false,
    "memoryGiB": 8,
    "name": "ml.m5d.large",
    "vcpuNum": 2
   },
   {
    "_defaultOrder": 13,
    "_isFastLaunch": false,
    "category": "General purpose",
    "gpuNum": 0,
    "hideHardwareSpecs": false,
    "memoryGiB": 16,
    "name": "ml.m5d.xlarge",
    "vcpuNum": 4
   },
   {
    "_defaultOrder": 14,
    "_isFastLaunch": false,
    "category": "General purpose",
    "gpuNum": 0,
    "hideHardwareSpecs": false,
    "memoryGiB": 32,
    "name": "ml.m5d.2xlarge",
    "vcpuNum": 8
   },
   {
    "_defaultOrder": 15,
    "_isFastLaunch": false,
    "category": "General purpose",
    "gpuNum": 0,
    "hideHardwareSpecs": false,
    "memoryGiB": 64,
    "name": "ml.m5d.4xlarge",
    "vcpuNum": 16
   },
   {
    "_defaultOrder": 16,
    "_isFastLaunch": false,
    "category": "General purpose",
    "gpuNum": 0,
    "hideHardwareSpecs": false,
    "memoryGiB": 128,
    "name": "ml.m5d.8xlarge",
    "vcpuNum": 32
   },
   {
    "_defaultOrder": 17,
    "_isFastLaunch": false,
    "category": "General purpose",
    "gpuNum": 0,
    "hideHardwareSpecs": false,
    "memoryGiB": 192,
    "name": "ml.m5d.12xlarge",
    "vcpuNum": 48
   },
   {
    "_defaultOrder": 18,
    "_isFastLaunch": false,
    "category": "General purpose",
    "gpuNum": 0,
    "hideHardwareSpecs": false,
    "memoryGiB": 256,
    "name": "ml.m5d.16xlarge",
    "vcpuNum": 64
   },
   {
    "_defaultOrder": 19,
    "_isFastLaunch": false,
    "category": "General purpose",
    "gpuNum": 0,
    "hideHardwareSpecs": false,
    "memoryGiB": 384,
    "name": "ml.m5d.24xlarge",
    "vcpuNum": 96
   },
   {
    "_defaultOrder": 20,
    "_isFastLaunch": false,
    "category": "General purpose",
    "gpuNum": 0,
    "hideHardwareSpecs": true,
    "memoryGiB": 0,
    "name": "ml.geospatial.interactive",
    "supportedImageNames": [
     "sagemaker-geospatial-v1-0"
    ],
    "vcpuNum": 0
   },
   {
    "_defaultOrder": 21,
    "_isFastLaunch": true,
    "category": "Compute optimized",
    "gpuNum": 0,
    "hideHardwareSpecs": false,
    "memoryGiB": 4,
    "name": "ml.c5.large",
    "vcpuNum": 2
   },
   {
    "_defaultOrder": 22,
    "_isFastLaunch": false,
    "category": "Compute optimized",
    "gpuNum": 0,
    "hideHardwareSpecs": false,
    "memoryGiB": 8,
    "name": "ml.c5.xlarge",
    "vcpuNum": 4
   },
   {
    "_defaultOrder": 23,
    "_isFastLaunch": false,
    "category": "Compute optimized",
    "gpuNum": 0,
    "hideHardwareSpecs": false,
    "memoryGiB": 16,
    "name": "ml.c5.2xlarge",
    "vcpuNum": 8
   },
   {
    "_defaultOrder": 24,
    "_isFastLaunch": false,
    "category": "Compute optimized",
    "gpuNum": 0,
    "hideHardwareSpecs": false,
    "memoryGiB": 32,
    "name": "ml.c5.4xlarge",
    "vcpuNum": 16
   },
   {
    "_defaultOrder": 25,
    "_isFastLaunch": false,
    "category": "Compute optimized",
    "gpuNum": 0,
    "hideHardwareSpecs": false,
    "memoryGiB": 72,
    "name": "ml.c5.9xlarge",
    "vcpuNum": 36
   },
   {
    "_defaultOrder": 26,
    "_isFastLaunch": false,
    "category": "Compute optimized",
    "gpuNum": 0,
    "hideHardwareSpecs": false,
    "memoryGiB": 96,
    "name": "ml.c5.12xlarge",
    "vcpuNum": 48
   },
   {
    "_defaultOrder": 27,
    "_isFastLaunch": false,
    "category": "Compute optimized",
    "gpuNum": 0,
    "hideHardwareSpecs": false,
    "memoryGiB": 144,
    "name": "ml.c5.18xlarge",
    "vcpuNum": 72
   },
   {
    "_defaultOrder": 28,
    "_isFastLaunch": false,
    "category": "Compute optimized",
    "gpuNum": 0,
    "hideHardwareSpecs": false,
    "memoryGiB": 192,
    "name": "ml.c5.24xlarge",
    "vcpuNum": 96
   },
   {
    "_defaultOrder": 29,
    "_isFastLaunch": true,
    "category": "Accelerated computing",
    "gpuNum": 1,
    "hideHardwareSpecs": false,
    "memoryGiB": 16,
    "name": "ml.g4dn.xlarge",
    "vcpuNum": 4
   },
   {
    "_defaultOrder": 30,
    "_isFastLaunch": false,
    "category": "Accelerated computing",
    "gpuNum": 1,
    "hideHardwareSpecs": false,
    "memoryGiB": 32,
    "name": "ml.g4dn.2xlarge",
    "vcpuNum": 8
   },
   {
    "_defaultOrder": 31,
    "_isFastLaunch": false,
    "category": "Accelerated computing",
    "gpuNum": 1,
    "hideHardwareSpecs": false,
    "memoryGiB": 64,
    "name": "ml.g4dn.4xlarge",
    "vcpuNum": 16
   },
   {
    "_defaultOrder": 32,
    "_isFastLaunch": false,
    "category": "Accelerated computing",
    "gpuNum": 1,
    "hideHardwareSpecs": false,
    "memoryGiB": 128,
    "name": "ml.g4dn.8xlarge",
    "vcpuNum": 32
   },
   {
    "_defaultOrder": 33,
    "_isFastLaunch": false,
    "category": "Accelerated computing",
    "gpuNum": 4,
    "hideHardwareSpecs": false,
    "memoryGiB": 192,
    "name": "ml.g4dn.12xlarge",
    "vcpuNum": 48
   },
   {
    "_defaultOrder": 34,
    "_isFastLaunch": false,
    "category": "Accelerated computing",
    "gpuNum": 1,
    "hideHardwareSpecs": false,
    "memoryGiB": 256,
    "name": "ml.g4dn.16xlarge",
    "vcpuNum": 64
   },
   {
    "_defaultOrder": 35,
    "_isFastLaunch": false,
    "category": "Accelerated computing",
    "gpuNum": 1,
    "hideHardwareSpecs": false,
    "memoryGiB": 61,
    "name": "ml.p3.2xlarge",
    "vcpuNum": 8
   },
   {
    "_defaultOrder": 36,
    "_isFastLaunch": false,
    "category": "Accelerated computing",
    "gpuNum": 4,
    "hideHardwareSpecs": false,
    "memoryGiB": 244,
    "name": "ml.p3.8xlarge",
    "vcpuNum": 32
   },
   {
    "_defaultOrder": 37,
    "_isFastLaunch": false,
    "category": "Accelerated computing",
    "gpuNum": 8,
    "hideHardwareSpecs": false,
    "memoryGiB": 488,
    "name": "ml.p3.16xlarge",
    "vcpuNum": 64
   },
   {
    "_defaultOrder": 38,
    "_isFastLaunch": false,
    "category": "Accelerated computing",
    "gpuNum": 8,
    "hideHardwareSpecs": false,
    "memoryGiB": 768,
    "name": "ml.p3dn.24xlarge",
    "vcpuNum": 96
   },
   {
    "_defaultOrder": 39,
    "_isFastLaunch": false,
    "category": "Memory Optimized",
    "gpuNum": 0,
    "hideHardwareSpecs": false,
    "memoryGiB": 16,
    "name": "ml.r5.large",
    "vcpuNum": 2
   },
   {
    "_defaultOrder": 40,
    "_isFastLaunch": false,
    "category": "Memory Optimized",
    "gpuNum": 0,
    "hideHardwareSpecs": false,
    "memoryGiB": 32,
    "name": "ml.r5.xlarge",
    "vcpuNum": 4
   },
   {
    "_defaultOrder": 41,
    "_isFastLaunch": false,
    "category": "Memory Optimized",
    "gpuNum": 0,
    "hideHardwareSpecs": false,
    "memoryGiB": 64,
    "name": "ml.r5.2xlarge",
    "vcpuNum": 8
   },
   {
    "_defaultOrder": 42,
    "_isFastLaunch": false,
    "category": "Memory Optimized",
    "gpuNum": 0,
    "hideHardwareSpecs": false,
    "memoryGiB": 128,
    "name": "ml.r5.4xlarge",
    "vcpuNum": 16
   },
   {
    "_defaultOrder": 43,
    "_isFastLaunch": false,
    "category": "Memory Optimized",
    "gpuNum": 0,
    "hideHardwareSpecs": false,
    "memoryGiB": 256,
    "name": "ml.r5.8xlarge",
    "vcpuNum": 32
   },
   {
    "_defaultOrder": 44,
    "_isFastLaunch": false,
    "category": "Memory Optimized",
    "gpuNum": 0,
    "hideHardwareSpecs": false,
    "memoryGiB": 384,
    "name": "ml.r5.12xlarge",
    "vcpuNum": 48
   },
   {
    "_defaultOrder": 45,
    "_isFastLaunch": false,
    "category": "Memory Optimized",
    "gpuNum": 0,
    "hideHardwareSpecs": false,
    "memoryGiB": 512,
    "name": "ml.r5.16xlarge",
    "vcpuNum": 64
   },
   {
    "_defaultOrder": 46,
    "_isFastLaunch": false,
    "category": "Memory Optimized",
    "gpuNum": 0,
    "hideHardwareSpecs": false,
    "memoryGiB": 768,
    "name": "ml.r5.24xlarge",
    "vcpuNum": 96
   },
   {
    "_defaultOrder": 47,
    "_isFastLaunch": false,
    "category": "Accelerated computing",
    "gpuNum": 1,
    "hideHardwareSpecs": false,
    "memoryGiB": 16,
    "name": "ml.g5.xlarge",
    "vcpuNum": 4
   },
   {
    "_defaultOrder": 48,
    "_isFastLaunch": false,
    "category": "Accelerated computing",
    "gpuNum": 1,
    "hideHardwareSpecs": false,
    "memoryGiB": 32,
    "name": "ml.g5.2xlarge",
    "vcpuNum": 8
   },
   {
    "_defaultOrder": 49,
    "_isFastLaunch": false,
    "category": "Accelerated computing",
    "gpuNum": 1,
    "hideHardwareSpecs": false,
    "memoryGiB": 64,
    "name": "ml.g5.4xlarge",
    "vcpuNum": 16
   },
   {
    "_defaultOrder": 50,
    "_isFastLaunch": false,
    "category": "Accelerated computing",
    "gpuNum": 1,
    "hideHardwareSpecs": false,
    "memoryGiB": 128,
    "name": "ml.g5.8xlarge",
    "vcpuNum": 32
   },
   {
    "_defaultOrder": 51,
    "_isFastLaunch": false,
    "category": "Accelerated computing",
    "gpuNum": 1,
    "hideHardwareSpecs": false,
    "memoryGiB": 256,
    "name": "ml.g5.16xlarge",
    "vcpuNum": 64
   },
   {
    "_defaultOrder": 52,
    "_isFastLaunch": false,
    "category": "Accelerated computing",
    "gpuNum": 4,
    "hideHardwareSpecs": false,
    "memoryGiB": 192,
    "name": "ml.g5.12xlarge",
    "vcpuNum": 48
   },
   {
    "_defaultOrder": 53,
    "_isFastLaunch": false,
    "category": "Accelerated computing",
    "gpuNum": 4,
    "hideHardwareSpecs": false,
    "memoryGiB": 384,
    "name": "ml.g5.24xlarge",
    "vcpuNum": 96
   },
   {
    "_defaultOrder": 54,
    "_isFastLaunch": false,
    "category": "Accelerated computing",
    "gpuNum": 8,
    "hideHardwareSpecs": false,
    "memoryGiB": 768,
    "name": "ml.g5.48xlarge",
    "vcpuNum": 192
   },
   {
    "_defaultOrder": 55,
    "_isFastLaunch": false,
    "category": "Accelerated computing",
    "gpuNum": 8,
    "hideHardwareSpecs": false,
    "memoryGiB": 1152,
    "name": "ml.p4d.24xlarge",
    "vcpuNum": 96
   },
   {
    "_defaultOrder": 56,
    "_isFastLaunch": false,
    "category": "Accelerated computing",
    "gpuNum": 8,
    "hideHardwareSpecs": false,
    "memoryGiB": 1152,
    "name": "ml.p4de.24xlarge",
    "vcpuNum": 96
   }
  ],
  "instance_type": "ml.c5.4xlarge",
  "kernelspec": {
   "display_name": "Python 3 (Data Science 3.0)",
   "language": "python",
   "name": "python3__SAGEMAKER_INTERNAL__arn:aws:sagemaker:us-east-1:081325390199:image/sagemaker-data-science-310-v1"
  },
  "language_info": {
   "codemirror_mode": {
    "name": "ipython",
    "version": 3
   },
   "file_extension": ".py",
   "mimetype": "text/x-python",
   "name": "python",
   "nbconvert_exporter": "python",
   "pygments_lexer": "ipython3",
   "version": "3.10.6"
  },
  "toc-showtags": false
 },
 "nbformat": 4,
 "nbformat_minor": 5
}
